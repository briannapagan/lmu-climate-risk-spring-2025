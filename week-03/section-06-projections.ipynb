{
 "cells": [
  {
   "cell_type": "markdown",
   "metadata": {},
   "source": [
    "# Map projections\n",
    "\n",
    "Coordinate reference systems (CRS) are important because the geometric shapes in a GeoDataFrame are simply a collection of coordinates in an arbitrary space. A CRS tells Python how those coordinates are related to places on the Earth. A map projection (or a projected coordinate system) is a systematic transformation of the latitudes and longitudes into a plain surface where units are quite commonly represented as meters (instead of decimal degrees). This transformation is used to represent the three dimensional earth on a flat, two dimensional map.\n",
    "\n",
    "As the CRS in different spatial datasets differ fairly often (i.e. one might have coordinates defined in decimal degrees while the other one has them in meters), it is a common procedure to redefine (or reproject) the CRS to be identical in both layers. It is important that the layers have the same coordinate reference system as it makes it possible to analyze the spatial relationships between the layers, such as conduct a Point in Polygon -query.\n",
    "\n",
    "Choosing an appropriate projection for your map is not always straightforward because it depends on what you actually want to represent with your map, and what is the spatial scale of your data. In fact, there does not exist a \"perfect projection\" since each one of them has some strengths and weaknesses, and you should choose such projection that fits best for your needs. In fact, the projection you choose might even tell something about you:\n",
    "    \n",
    "![](img/Map-projections.png)\n",
    "*Source: XKCD, See a full comic about [\"What your favorite map projection tells about you\"](https://xkcd.com/977/)*.\n",
    "\n",
    "For those of you who want a bit more analytical approach for choosing the projection, you can get a good overview from [georeference.org](http://www.georeference.org/doc/guide_to_selecting_map_projections.htm), or from this blog post introducing [the strengths and weaknesses of a few commonly used projections](http://usersguidetotheuniverse.com/index.php/2011/03/03/whats-the-best-map-projection/)."
   ]
  },
  {
   "cell_type": "markdown",
   "metadata": {},
   "source": [
    "## Coordinate reference system (CRS) in Geopandas\n",
    "\n",
    "Luckily, defining and changing projections is easy in Geopandas. In this tutorial we will see how to retrieve the\n",
    "coordinate reference system information from the data, and how to change it. We will re-project a data file from\n",
    "WGS84 (lat, lon coordinates) into a Lambert Azimuthal Equal Area projection which is the [recommended projection for\n",
    "Europe](http://mapref.org/LinkedDocuments/MapProjectionsForEurope-EUR-20120.pdf) by European Commission.\n",
    "\n",
    "For this tutorial we will be using a Shapefile called `Europe_borders.shp` representing the country borders in Europe, that you already should have [downloaded during the previous tutorial](geopandas-basics.ipynb). \n",
    "\n",
    "Shapefile should always contain information about the coordinate reference system that is stored in `.prj` -file (at least if the data has been appropriately produced). When reading the data into `GeoDataFrame` with Geopandas this information is automatically stored into `.crs` attribute of the GeoDataFrame.\n",
    "\n",
    "- Let's start by reading the data from the `Europe_borders.shp` file and checking the `crs`:"
   ]
  },
  {
   "cell_type": "code",
   "execution_count": null,
   "metadata": {
    "collapsed": false
   },
   "outputs": [],
   "source": [
    "# Import necessary packages\n",
    "import geopandas as gpd\n",
    "\n",
    "# Read the file\n",
    "fp = \"data/Europe_borders.shp\"\n",
    "data = gpd.read_file(fp)\n",
    "\n",
    "# Check the coordinate reference system\n",
    "data.crs"
   ]
  },
  {
   "cell_type": "markdown",
   "metadata": {},
   "source": [
    "As we can see, here, the `crs` is a Python dictionary with a key `init` that has a value `epsg:4326`. This is a very typical way how CRS is stored in GeoDataFrames. There is also another typical way of representing the coordinate reference system, namely storing that information in [Proj4-string](https://proj4.org/usage/quickstart.html) format (we will come back to this later). \n",
    "\n",
    "The EPSG number (*\"European Petroleum Survey Group\"*) is a code that tells about the coordinate system of the dataset. \"[EPSG Geodetic Parameter Dataset](http://www.epsg.org/) is a collection of definitions of coordinate reference systems and coordinate transformations which may be global, regional, national or local in application\". EPSG code `4326` that we have here, belongs to the WGS84 coordinate system (i.e. coordinates are in decimal degrees: latitudes and longitudes).\n",
    "\n",
    "You can find a lot of information and lists of available coordinate reference systems from:\n",
    "\n",
    "  - [www.spatialreference.org](http://spatialreference.org/)\n",
    "  - [www.proj4.org](https://proj4.org/operations/projections/)\n",
    "  - [www.mapref.org](http://mapref.org/CollectionofCRSinEurope.html)"
   ]
  },
  {
   "cell_type": "markdown",
   "metadata": {},
   "source": [
    "- Let's continue by checking the values in our `geometry` -column to verify that the CRS of our GeoDataFrame seems correct:"
   ]
  },
  {
   "cell_type": "code",
   "execution_count": null,
   "metadata": {
    "collapsed": false
   },
   "outputs": [],
   "source": [
    "data['geometry'].head()"
   ]
  },
  {
   "cell_type": "markdown",
   "metadata": {},
   "source": [
    "As we can see, the coordinate values of the Polygons indeed look like latitude and longitude values, so everything seems to be in order (as in most cases).\n",
    "\n",
    "WGS84 projection is not really a good one for representing European borders, so let's convert those geometries into Lambert Azimuthal Equal Area projection ([EPSG: 3035](http://spatialreference.org/ref/epsg/etrs89-etrs-laea/)) which is the recommended projection by European Comission.\n",
    "\n",
    "Changing the projection is simple to [do in Geopandas](http://geopandas.org/projections.html#re-projecting) with `.to_crs()` -function which is a built-in function of the GeoDataFrame. The function has two alternative parameters 1) `crs` and 2) `epgs` that can be used to make the coordinate transformation and re-project the data into the CRS that you want to use. \n",
    "\n",
    "- Let's re-project our data into `EPSG 3035` using `epsg` -parameter:"
   ]
  },
  {
   "cell_type": "code",
   "execution_count": null,
   "metadata": {
    "collapsed": false
   },
   "outputs": [],
   "source": [
    "# Let's make a copy of our data\n",
    "orig = data.copy()\n",
    "\n",
    "# Reproject the data\n",
    "data = data.to_crs(epsg=3035)\n",
    "\n",
    "# Check the new geometry values\n",
    "print(data['geometry'].head())"
   ]
  },
  {
   "cell_type": "markdown",
   "metadata": {},
   "source": [
    "And here we go, the coordinate values in the geometries have changed! Now we have successfully changed the projection of our layer into a new one, i.e. to `ETRS-LAEA` projection. \n",
    "\n",
    "To really understand what is going on, it is good to explore our data visually. Hence, let's compare the datasets by making\n",
    "maps out of them.\n"
   ]
  },
  {
   "cell_type": "code",
   "execution_count": null,
   "metadata": {
    "collapsed": false
   },
   "outputs": [],
   "source": [
    "%matplotlib inline\n",
    "import matplotlib.pyplot as plt\n",
    "\n",
    "# Make subplots that are next to each other\n",
    "fig, (ax1, ax2) = plt.subplots(nrows=1, ncols=2, figsize=(12, 8))\n",
    "\n",
    "# Plot the data in WGS84 CRS\n",
    "orig.plot(ax=ax1, facecolor='gray');\n",
    "\n",
    "# Add title\n",
    "ax1.set_title(\"WGS84\");\n",
    "\n",
    "# Plot the one with ETRS-LAEA projection\n",
    "data.plot(ax=ax2, facecolor='blue');\n",
    "\n",
    "# Add title\n",
    "ax2.set_title(\"ETRS Lambert Azimuthal Equal Area projection\");\n",
    "\n",
    "# Remove empty white space around the plot\n",
    "plt.tight_layout()"
   ]
  },
  {
   "cell_type": "markdown",
   "metadata": {},
   "source": [
    "Indeed, the maps look quite different, and the re-projected one looks much better in Europe as the areas especially in the north are more realistic and not so stretched as in WGS84.\n",
    "\n",
    "- Finally, let's save our projected layer into a Shapefile so that we can use it later."
   ]
  },
  {
   "cell_type": "code",
   "execution_count": null,
   "metadata": {
    "collapsed": true
   },
   "outputs": [],
   "source": [
    "# Ouput filepath\n",
    "outfp = \"data/Europe_borders_epsg3035.shp\"\n",
    "    \n",
    "# Save to disk\n",
    "data.to_file(outfp)"
   ]
  }
 ],
 "metadata": {
  "kernelspec": {
   "display_name": "Python 3.9.13 ('validations')",
   "language": "python",
   "name": "python3"
  },
  "language_info": {
   "codemirror_mode": {
    "name": "ipython",
    "version": 3
   },
   "file_extension": ".py",
   "mimetype": "text/x-python",
   "name": "python",
   "nbconvert_exporter": "python",
   "pygments_lexer": "ipython3",
   "version": "3.9.13"
  },
  "vscode": {
   "interpreter": {
    "hash": "e460e709f58070950c65c0c33823686acb388113d15269e91ed6fb063a69ef02"
   }
  }
 },
 "nbformat": 4,
 "nbformat_minor": 2
}
