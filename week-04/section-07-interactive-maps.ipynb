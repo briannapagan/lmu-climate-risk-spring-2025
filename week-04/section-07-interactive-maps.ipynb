{
 "cells": [
  {
   "cell_type": "markdown",
   "metadata": {
    "deletable": true,
    "editable": true
   },
   "source": [
    "# Interactive maps\n",
    "\n",
    "In this tutorial we will learn how to publish data from Python on interactive [leaflet.js](http://leafletjs.com/) maps. \n",
    "\n",
    "JavaScript (JS)  is a programming language for adding interactive content (such a zoomamble maps!) on webpages. [Leaflet](http://leafletjs.com/) is a popular JavaScript library for creating interactive maps for webpages ([OpenLayers](https://openlayers.org/) is another JavaScript library for the same purpose). \n",
    "\n",
    "Here, will mainly focus on [Folium](https://python-visualization.github.io/folium/) - a Python library that makes it easy to convert data from (Geo)DataFrames into interactive Leaflet maps.\n",
    "\n",
    "<div class=\"alert alert-info\">\n",
    "\n",
    "**Explore also...**\n",
    "    \n",
    "Other interesting libraries for creating interactive visualizations from spatial data:\n",
    "    \n",
    "- [mapboxgl](https://github.com/mapbox/mapboxgl-jupyter)\n",
    "- [Bokeh](https://docs.bokeh.org/en/latest/)\n",
    "- [Geoviews](http://geoviews.org/)\n",
    "- [plotly express](https://plotly.com/python/maps/)\n",
    "\n",
    "</div>\n"
   ]
  },
  {
   "cell_type": "markdown",
   "metadata": {},
   "source": [
    "## Folium\n",
    "\n",
    "\n",
    "[Folium](https://github.com/python-visualization/folium)  is a Python library that makes\n",
    "it possible visualize data on an interactive Leaflet map.\n",
    "\n",
    "**Resources:**\n",
    "\n",
    "- [Folium Documentation](https://python-visualization.github.io/folium/)\n",
    "- [Example Gallery](https://nbviewer.jupyter.org/github/python-visualization/folium/tree/master/examples/)\n",
    "- [Folium Quickstart](https://python-visualization.github.io/folium/quickstart.html)\n"
   ]
  },
  {
   "cell_type": "markdown",
   "metadata": {},
   "source": [
    "### Creating a simple interactive web-map\n",
    "\n",
    "Import folium and other useful packages:"
   ]
  },
  {
   "cell_type": "code",
   "execution_count": null,
   "metadata": {},
   "outputs": [],
   "source": [
    "import folium\n",
    "from folium.plugins import Fullscreen\n"
   ]
  },
  {
   "cell_type": "code",
   "execution_count": null,
   "metadata": {},
   "outputs": [],
   "source": [
    "from pyproj import crs\n",
    "import geopandas as gpd\n",
    "import matplotlib.pyplot as plt"
   ]
  },
  {
   "cell_type": "markdown",
   "metadata": {},
   "source": [
    "We will start by creating a simple interactive web-map without any data on it. We just visualize OpenStreetMap on a specific location of the world.\n",
    "\n",
    "First thing that we need to do is to create [a Map instance](https://python-visualization.github.io/folium/modules.html#folium.folium.Map) and define a location for zooming in the data: "
   ]
  },
  {
   "cell_type": "code",
   "execution_count": null,
   "metadata": {
    "deletable": true,
    "editable": true
   },
   "outputs": [],
   "source": [
    "# Create a Map instance\n",
    "m = folium.Map(location=[60.25, 24.8], zoom_start=10, control_scale=True)"
   ]
  },
  {
   "cell_type": "markdown",
   "metadata": {
    "deletable": true,
    "editable": true
   },
   "source": [
    "The first parameter ``location`` takes a pair of lat, lon values as list as an input which will determine where the map will be positioned when user opens up the map. ``zoom_start`` -parameter adjusts the default zoom-level for the map (the higher the number the closer the zoom is). ``control_scale`` defines if map should have a scalebar or not."
   ]
  },
  {
   "cell_type": "markdown",
   "metadata": {
    "deletable": true,
    "editable": true
   },
   "source": [
    "Let's see what our map looks like: "
   ]
  },
  {
   "cell_type": "code",
   "execution_count": null,
   "metadata": {
    "collapsed": false,
    "deletable": true,
    "editable": true,
    "jupyter": {
     "outputs_hidden": false
    }
   },
   "outputs": [],
   "source": [
    "m"
   ]
  },
  {
   "cell_type": "markdown",
   "metadata": {
    "deletable": true,
    "editable": true
   },
   "source": [
    "We can also save the map as a html file:"
   ]
  },
  {
   "cell_type": "code",
   "execution_count": null,
   "metadata": {
    "collapsed": false,
    "deletable": true,
    "editable": true,
    "jupyter": {
     "outputs_hidden": false
    }
   },
   "outputs": [],
   "source": [
    "outfp = \"base_map.html\"\n",
    "m.save(outfp)"
   ]
  },
  {
   "cell_type": "markdown",
   "metadata": {
    "deletable": true,
    "editable": true
   },
   "source": [
    "\n",
    "You should now see a html file in your working directory. You can open the file in a web-browser in order to see the map, or in a text editor in order to see the source definition.\n",
    "\n",
    "\n",
    "Let's create another map with different settings (location, bacground map, zoom levels etc). See documentation of the [Map() object](https://python-visualization.github.io/folium/modules.html#folium.folium.Map) for all avaiable options.\n",
    "    \n",
    "``tiles`` -parameter is used for changing the background map provider and map style (see the [documentation](https://python-visualization.github.io/folium/modules.html#folium.folium.Map) for all in-built options).\n"
   ]
  },
  {
   "cell_type": "code",
   "execution_count": null,
   "metadata": {
    "collapsed": false,
    "deletable": true,
    "editable": true,
    "jupyter": {
     "outputs_hidden": false
    }
   },
   "outputs": [],
   "source": [
    "# Let's change the basemap style to 'cartodb positron'\n",
    "m = folium.Map(location=[40.730610, -73.935242], tiles='cartodb positron',\n",
    "                zoom_start=12, control_scale=True, prefer_canvas=True)\n",
    "\n",
    "m"
   ]
  },
  {
   "cell_type": "markdown",
   "metadata": {
    "deletable": true,
    "editable": true
   },
   "source": [
    "### Adding layers to the map\n",
    "\n",
    "Let's first have a look how we can add a simple [marker](https://python-visualization.github.io/folium/modules.html?highlight=marker#folium.map.Marker) on the webmap:"
   ]
  },
  {
   "cell_type": "code",
   "execution_count": null,
   "metadata": {
    "collapsed": false,
    "jupyter": {
     "outputs_hidden": false
    }
   },
   "outputs": [],
   "source": [
    "# Create a Map instance\n",
    "m = folium.Map(location=[60.20, 24.96],\n",
    "    zoom_start=12, control_scale=True)\n",
    "\n",
    "# Add marker\n",
    "# Run: help(folium.Icon) for more info about icons\n",
    "folium.Marker(\n",
    "    location=[60.20426, 24.96179],\n",
    "    popup='Kumpula Campus',\n",
    "    icon=folium.Icon(color='green', icon='ok-sign'),\n",
    ").add_to(m)\n",
    "\n",
    "#Show map\n",
    "m\n"
   ]
  },
  {
   "cell_type": "markdown",
   "metadata": {
    "deletable": true,
    "editable": true
   },
   "source": [
    "### Choropleth map"
   ]
  },
  {
   "cell_type": "markdown",
   "metadata": {
    "deletable": true,
    "editable": true
   },
   "source": [
    "Next, let's check how we can overlay polygons to a folium map using LA County's Social Vulnerability Index (https://www.arcgis.com/home/item.html?id=bb8b6e2136384c38b05544235bd67cb8). "
   ]
  },
  {
   "cell_type": "code",
   "execution_count": null,
   "metadata": {},
   "outputs": [],
   "source": [
    "# Set where you data is located and the file you wish to open\n",
    "file_path = 'data/Social_Vulnerability_Index_LA_County.geojson'\n",
    "# Load the GeoJSON again as a GeoDataFrame\n",
    "gdf = gpd.read_file(file_path)\n"
   ]
  },
  {
   "cell_type": "markdown",
   "metadata": {},
   "source": [
    "Examine the data frame..."
   ]
  },
  {
   "cell_type": "code",
   "execution_count": null,
   "metadata": {},
   "outputs": [],
   "source": []
  },
  {
   "cell_type": "markdown",
   "metadata": {},
   "source": [
    "Select one column for the choropleth (for example Poverty Percentage - ```EP_POV```)\n"
   ]
  },
  {
   "cell_type": "code",
   "execution_count": null,
   "metadata": {},
   "outputs": [],
   "source": [
    "choropleth_field = \"EP_POV\""
   ]
  },
  {
   "cell_type": "markdown",
   "metadata": {},
   "source": [
    "Create and interactive map"
   ]
  },
  {
   "cell_type": "code",
   "execution_count": null,
   "metadata": {},
   "outputs": [],
   "source": [
    "\n",
    "# Compute the centroid of the county for the initial map view\n",
    "center_lat, center_lon = gdf.geometry.centroid.y.mean(), gdf.geometry.centroid.x.mean()\n",
    "\n",
    "# Create a Folium map centered on LA County\n",
    "m = folium.Map(location=[center_lat, center_lon], zoom_start=10, tiles=\"cartodb positron\")\n",
    "\n",
    "# Add a Choropleth layer\n",
    "choropleth = folium.Choropleth(\n",
    "    geo_data=file_path,\n",
    "    name=\"Choropleth\",\n",
    "    data=gdf,\n",
    "    columns=[\"FIPS\", choropleth_field],  # Use FIPS as the unique key\n",
    "    key_on=\"feature.properties.FIPS\",\n",
    "    fill_color=\"YlOrRd\",\n",
    "    fill_opacity=0.7,\n",
    "    line_opacity=0.2,\n",
    "    legend_name=\"Poverty Percentage (%)\",\n",
    ").add_to(m)"
   ]
  },
  {
   "cell_type": "markdown",
   "metadata": {},
   "source": [
    "### Tooltips\n",
    "\n",
    "It is possible to add different kinds of pop-up messages and tooltips to the map. Here, it would be nice to see some additional metadata for the individual polygons.  \n",
    "\n",
    "Add tooltips, we can add tooltips to our map when plotting the polygons as GeoJson objects using the `GeoJsonTooltip` feature. (following examples from [here](http://nbviewer.jupyter.org/gist/jtbaker/57a37a14b90feeab7c67a687c398142c?flush_cache=true) and [here](https://nbviewer.jupyter.org/github/jtbaker/folium/blob/geojsonmarker/examples/GeoJsonMarkersandTooltips.ipynb))\n",
    "\n",
    "For a quick workaround, we plot the polygons on top of the coropleth map as a transparent layer, and add the tooltip to these objects. *Note: this is not an optimal solution as now the polygon geometry get's stored twice in the output!*"
   ]
  },
  {
   "cell_type": "code",
   "execution_count": null,
   "metadata": {},
   "outputs": [],
   "source": [
    "# Add a tooltip to show exact values on hover\n",
    "tooltip = folium.GeoJsonTooltip(\n",
    "    fields=[\"LOCATION\", choropleth_field],\n",
    "    aliases=[\"Location:\", \"Poverty Rate (%):\"],\n",
    "    localize=True,\n",
    "    sticky=True\n",
    ")\n",
    "\n",
    "# Add GeoJson with tooltips\n",
    "folium.GeoJson(\n",
    "    file_path,\n",
    "    name=\"Poverty Rate\",\n",
    "    tooltip=tooltip,\n",
    "    style_function=lambda x: {\"fillOpacity\": 0, \"color\": \"black\", \"weight\": 0.3}\n",
    ").add_to(m)\n",
    "\n",
    "# Add fullscreen button\n",
    "Fullscreen().add_to(m)\n",
    "\n",
    "m"
   ]
  },
  {
   "cell_type": "markdown",
   "metadata": {},
   "source": [
    "Rember that you can also save the output as an html file: "
   ]
  },
  {
   "cell_type": "code",
   "execution_count": null,
   "metadata": {},
   "outputs": [],
   "source": [
    "# Save and display the map\n",
    "map_path = \"LA_County_Poverty_Map.html\"\n",
    "m.save(map_path)"
   ]
  },
  {
   "cell_type": "markdown",
   "metadata": {},
   "source": [
    "Extra: check out plotly express for an alternative way of plotting an interactive Choropleth map [in here](https://plotly.com/python/mapbox-county-choropleth/)."
   ]
  },
  {
   "cell_type": "code",
   "execution_count": null,
   "metadata": {},
   "outputs": [],
   "source": [
    "import plotly.express as px\n",
    "\n",
    "# Load GeoJSON\n",
    "gdf = gpd.read_file(\"data/Social_Vulnerability_Index_LA_County.geojson\")\n",
    "\n",
    "fig = px.choropleth(\n",
    "    gdf,\n",
    "    geojson=gdf.geometry,\n",
    "    locations=gdf.index,\n",
    "    color=\"EP_POV\",\n",
    "    color_continuous_scale=\"OrRd\",\n",
    "    title=\"Poverty Rate (%)\"\n",
    ")\n",
    "\n",
    "fig.update_geos(fitbounds=\"locations\", visible=False)\n",
    "fig.show()"
   ]
  }
 ],
 "metadata": {
  "anaconda-cloud": {},
  "kernelspec": {
   "display_name": "Python 3",
   "language": "python",
   "name": "python3"
  },
  "language_info": {
   "codemirror_mode": {
    "name": "ipython",
    "version": 3
   },
   "file_extension": ".py",
   "mimetype": "text/x-python",
   "name": "python",
   "nbconvert_exporter": "python",
   "pygments_lexer": "ipython3",
   "version": "3.8.6"
  }
 },
 "nbformat": 4,
 "nbformat_minor": 4
}
