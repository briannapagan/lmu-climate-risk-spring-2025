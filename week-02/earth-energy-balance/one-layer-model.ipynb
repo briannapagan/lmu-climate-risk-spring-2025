{
 "cells": [
  {
   "cell_type": "markdown",
   "metadata": {},
   "source": [
    "# One-Layer Atmosphere Model for Earth System Sciences\n",
    "\n",
    "In this notebook, you'll build a 1-layer atmosphere model to understand energy balance concepts with the greenhouse effect.\n",
    "\n",
    "\n",
    "### Learning Objectives\n",
    " 1. Understand the role of a simple greenhouse effect in planetary energy balance.\n",
    " 2. Implement a 1-layer atmosphere model using Python.\n",
    " 3. Explore how atmospheric properties affect surface temperature."
   ]
  },
  {
   "cell_type": "markdown",
   "metadata": {},
   "source": [
    "### Step 1: Define the Solar Constant (S)\n",
    "The solar constant represents the solar energy received per unit area at the top of Earth's atmosphere (W/m^2).\n",
    "\n",
    "**Task:** Define the solar constant as 1361 W/m^2 (approximate value for Earth)."
   ]
  },
  {
   "cell_type": "code",
   "execution_count": null,
   "metadata": {},
   "outputs": [],
   "source": [
    "# Replace 'None' with the correct value below:\n",
    "S = None\n",
    "print(f\"Solar constant (S) = {S} W/m^2\")"
   ]
  },
  {
   "cell_type": "markdown",
   "metadata": {},
   "source": [
    "### Step 2: Define the Planetary Albedo (A)\n",
    "Albedo is the fraction of solar energy reflected back into space.\n",
    "\n",
    "**Task:** Define the albedo for a bare rock planet. \n"
   ]
  },
  {
   "cell_type": "code",
   "execution_count": null,
   "metadata": {},
   "outputs": [],
   "source": [
    "A = None\n",
    "print(f\"Planetary albedo (A) = {A}\")"
   ]
  },
  {
   "cell_type": "markdown",
   "metadata": {},
   "source": [
    "### Step 3: Calculate the Absorbed Solar Radiation (S_net)\n",
    "The absorbed solar radiation is given by:\n",
    "S_net = S * (1 - A) / 4\n",
    "The factor 4 accounts for the spherical geometry of the planet.\n",
    "\n",
    "**Task:** Calculate S_net using the formula above."
   ]
  },
  {
   "cell_type": "code",
   "execution_count": null,
   "metadata": {},
   "outputs": [],
   "source": [
    "S_net = None  # Replace 'None' with the correct formula\n",
    "print(f\"Absorbed solar radiation (S_net) = {S_net} W/m^2\")"
   ]
  },
  {
   "cell_type": "markdown",
   "metadata": {},
   "source": [
    "### Step 4: Define the Stefan-Boltzmann Constant (sigma)\n",
    "The Stefan-Boltzmann constant is used to calculate the emitted radiation.\n",
    "\n",
    "**Task:** Define the constant as 5.67e-8 W/m^2/K^4."
   ]
  },
  {
   "cell_type": "code",
   "execution_count": null,
   "metadata": {},
   "outputs": [],
   "source": [
    "sigma = None  # Replace 'None' with the correct value\n",
    "print(f\"Stefan-Boltzmann constant (sigma) = {sigma} W/m^2/K^4\")"
   ]
  },
  {
   "cell_type": "markdown",
   "metadata": {},
   "source": [
    "### Step 5: Implement the 1-Layer Atmosphere Model\n",
    "In a 1-layer atmosphere model, the energy balance equations are:\n",
    "\n",
    " 1. At the top of the atmosphere: S_net = sigma * T_atm^4\n",
    " 2. At the surface: 2 * sigma * T_surface^4 = S_net\n",
    "\n",
    "The factor of 2 in the surface equation arises because the atmosphere radiates energy both upward and downward.\n",
    "\n",
    " **Task:** Solve for T_atm and T_surface using the equations above."
   ]
  },
  {
   "cell_type": "code",
   "execution_count": null,
   "metadata": {},
   "outputs": [],
   "source": []
  },
  {
   "cell_type": "code",
   "execution_count": null,
   "metadata": {},
   "outputs": [],
   "source": []
  },
  {
   "cell_type": "markdown",
   "metadata": {},
   "source": [
    "### Step 6: Experimentation\n",
    " Modify the solar constant (S) and albedo (A) to explore their impact on T_atm and T_surface.\n",
    "\n",
    " Example values to test:\n",
    " 1. Increase S by 10% (e.g., S = 1.1 * 1361)\n",
    " 2. Decrease albedo to 0.2 (e.g., A = 0.2)"
   ]
  },
  {
   "cell_type": "code",
   "execution_count": null,
   "metadata": {},
   "outputs": [],
   "source": []
  },
  {
   "cell_type": "code",
   "execution_count": null,
   "metadata": {},
   "outputs": [],
   "source": []
  },
  {
   "cell_type": "markdown",
   "metadata": {},
   "source": [
    "### Bonus Task\n",
    "Write a function `one_layer_atmosphere_model` that takes `S` and `A` as inputs and returns `T_atm` and `T_surface`.\n"
   ]
  },
  {
   "cell_type": "code",
   "execution_count": null,
   "metadata": {},
   "outputs": [],
   "source": [
    "def one_layer_atmosphere_model(S, A):\n",
    "\n",
    "    return T_atm, T_surface\n",
    "\n",
    "# Test the function:\n"
   ]
  }
 ],
 "metadata": {
  "kernelspec": {
   "display_name": "base",
   "language": "python",
   "name": "python3"
  },
  "language_info": {
   "codemirror_mode": {
    "name": "ipython",
    "version": 3
   },
   "file_extension": ".py",
   "mimetype": "text/x-python",
   "name": "python",
   "nbconvert_exporter": "python",
   "pygments_lexer": "ipython3",
   "version": "3.9.12"
  }
 },
 "nbformat": 4,
 "nbformat_minor": 2
}
