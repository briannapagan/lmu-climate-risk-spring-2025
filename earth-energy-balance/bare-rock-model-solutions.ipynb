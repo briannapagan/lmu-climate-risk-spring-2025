{
 "cells": [
  {
   "cell_type": "markdown",
   "metadata": {},
   "source": [
    "# Bare Rock Model for Earth System Sciences\n",
    "\n",
    "In this notebook, you'll build a simple bare rock model to understand energy balance concepts.\n",
    "\n",
    "### Learning Objectives\n",
    " 1. Understand the concept of planetary energy balance.\n",
    " 2. Implement a simple bare rock model using Python.\n",
    " 3. Experiment with different parameters and observe the impact on planetary temperature.\n"
   ]
  },
  {
   "cell_type": "markdown",
   "metadata": {},
   "source": [
    "### Step 1: Define the Solar Constant (S)\n",
    "The solar constant represents the solar energy received per unit area at the top of Earth's atmosphere (W/m^2).\n",
    "\n",
    "**Task:** Define the solar constant as 1361 W/m^2 (approximate value for Earth)."
   ]
  },
  {
   "cell_type": "code",
   "execution_count": null,
   "metadata": {},
   "outputs": [],
   "source": [
    "# Replace 'None' with the correct value below:\n",
    "S = None\n",
    "print(f\"Solar constant (S) = {S} W/m^2\")"
   ]
  },
  {
   "cell_type": "markdown",
   "metadata": {},
   "source": [
    "### Step 2: Define the Planetary Albedo (A)\n",
    "Albedo is the fraction of solar energy reflected back into space.\n",
    "\n",
    "**Task:** Define the albedo for a bare rock planet. \n"
   ]
  },
  {
   "cell_type": "code",
   "execution_count": null,
   "metadata": {},
   "outputs": [],
   "source": [
    "A = None\n",
    "print(f\"Planetary albedo (A) = {A}\")"
   ]
  },
  {
   "cell_type": "markdown",
   "metadata": {},
   "source": [
    "### Step 3: Calculate the Absorbed Solar Radiation (Q_in)\n",
    "The absorbed solar radiation is given by:\n",
    "Q_in = S * (1 - A) / 4\n",
    "The factor 4 accounts for the spherical geometry of the planet.\n",
    "\n",
    "**Task:** Calculate Q_in using the formula above."
   ]
  },
  {
   "cell_type": "code",
   "execution_count": null,
   "metadata": {},
   "outputs": [],
   "source": [
    "Q_in = None  # Replace 'None' with the correct formula\n",
    "print(f\"Absorbed solar radiation (Q_in) = {Q_in} W/m^2\")"
   ]
  },
  {
   "cell_type": "markdown",
   "metadata": {},
   "source": [
    "### Step 4: Define the Stefan-Boltzmann Constant (sigma)\n",
    "The Stefan-Boltzmann constant is used to calculate the emitted radiation.\n",
    "\n",
    "**Task:** Define the constant as 5.67e-8 W/m^2/K^4."
   ]
  },
  {
   "cell_type": "code",
   "execution_count": null,
   "metadata": {},
   "outputs": [],
   "source": [
    "sigma = None  # Replace 'None' with the correct value\n",
    "print(f\"Stefan-Boltzmann constant (sigma) = {sigma} W/m^2/K^4\")"
   ]
  },
  {
   "cell_type": "markdown",
   "metadata": {},
   "source": [
    "### Step 5: Calculate Planetary Emission Temperature (T_eq)\n",
    "At equilibrium, the absorbed solar radiation equals the emitted radiation:\n",
    "Q_in = sigma * T_eq^4\n",
    "\n",
    "**Task:** Solve for T_eq using the formula:\n",
    "T_eq = (Q_in / sigma)^(1/4)"
   ]
  },
  {
   "cell_type": "code",
   "execution_count": null,
   "metadata": {},
   "outputs": [],
   "source": [
    "T_eq = None  # Replace 'None' with the correct formula\n",
    "print(f\"Equilibrium temperature (T_eq) = {T_eq} K\")"
   ]
  },
  {
   "cell_type": "markdown",
   "metadata": {},
   "source": [
    "### Step 6: Experimentation\n",
    "Modify the solar constant (S) and albedo (A) to explore their impact on T_eq.\n",
    "Example values to test:\n",
    " 1. Increase S by 10% (e.g., S = 1.1 * 1361)\n",
    " 2. Decrease albedo to 0.1 (e.g., A = 0.1)"
   ]
  },
  {
   "cell_type": "code",
   "execution_count": null,
   "metadata": {},
   "outputs": [],
   "source": [
    "# Modify S and A below to test:\n",
    "S = 1.1 * 1361  # Example: 10% increase in solar constant\n",
    "A = 0.1          # Example: Lower albedo\n",
    "\n",
    "# Recalculate Q_in and T_eq:\n",
    "Q_in = S * (1 - A) / 4\n",
    "T_eq = (Q_in / sigma) ** (1/4)\n",
    "\n",
    "print(f\"Modified Solar constant (S) = {S} W/m^2\")\n",
    "print(f\"Modified Planetary albedo (A) = {A}\")\n",
    "print(f\"New equilibrium temperature (T_eq) = {T_eq} K\")"
   ]
  },
  {
   "cell_type": "markdown",
   "metadata": {},
   "source": [
    "### Bonus Task\n",
    "Write a function `bare_rock_model` that takes `S` and `A` as inputs and returns `T_eq`. Use the steps above to define the function."
   ]
  },
  {
   "cell_type": "code",
   "execution_count": null,
   "metadata": {},
   "outputs": [],
   "source": [
    "def bare_rock_model(S, A):\n",
    "    sigma = 5.67e-8  # Stefan-Boltzmann constant\n",
    "    Q_in = S * (1 - A) / 4\n",
    "    T_eq = (Q_in / sigma) ** (1/4)\n",
    "    return T_eq\n",
    "\n",
    "# Test the function:\n",
    "S_test = 1361  # Default solar constant\n",
    "A_test = 0.3   # Default albedo\n",
    "T_eq_test = bare_rock_model(S_test, A_test)\n",
    "print(f\"Test Equilibrium temperature (T_eq) = {T_eq_test} K\")"
   ]
  }
 ],
 "metadata": {
  "kernelspec": {
   "display_name": "base",
   "language": "python",
   "name": "python3"
  },
  "language_info": {
   "codemirror_mode": {
    "name": "ipython",
    "version": 3
   },
   "file_extension": ".py",
   "mimetype": "text/x-python",
   "name": "python",
   "nbconvert_exporter": "python",
   "pygments_lexer": "ipython3",
   "version": "3.9.12"
  }
 },
 "nbformat": 4,
 "nbformat_minor": 2
}
